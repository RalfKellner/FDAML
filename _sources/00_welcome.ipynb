{
 "cells": [
  {
   "cell_type": "markdown",
   "metadata": {},
   "source": [
    "# Introduction\n",
    "\n",
    "We use this chapter to elaborate a common understanding what *Financial Data Analytics* (FDA) means and which content we discuss in this course. FDA refers to the process of analyzing and interpreting various forms of financial data to gain insights, make predictions and support decision-making. This process involves the use of statistical, mathematical, and computational techniques to analyze trends, patterns, and anomalies within financial data sets. FDA is employed across a wide range of applications, including investment strategies, portfolio management, risk management and market analysis. FDA uses data from various sources, such as stock prices, financial statements, economic indicators, and transaction records, to inform better business decisions.\n",
    "\n",
    "In general, domain specific data analytics always depends on two important knowledge sources: (1) data analytics in general which includes techniques from descriptive and inferential statistics as well as statistical learning, i.e. machine and deep learning. (2) the domain specific knowledge which is crucial for collecting appropriate data, preprocessing and model it the right way and to draw insightful interpretations from the results of your analysis.\n",
    "\n",
    "This is why we always aim to unite those two channels. On the one hand, we take a look at a few statistical models which are useful and popular in data science in general. On the other hand, we focus on a few statistical models which are especially popular in the domain of financial market analysis. Examples for course content which in general relates to data science and statistics are:\n",
    "\n",
    "* Descriptive analysis including univariate as well as multivariate data\n",
    "* Maximum-likelihood estimation of univariate and multivariate distributions\n",
    "* Linear Regression\n",
    "* Time-series modeling\n",
    "* Principal component analysis\n",
    "* Clustering\n",
    "\n",
    "Examples for course content which relates to the financial domain are:\n",
    "\n",
    "* Financial markets in general\n",
    "* Profitability and risk measurement \n",
    "* Portfolio theory\n",
    "* Factor models\n",
    "\n",
    "These contents are going to be mixed when needed. From a topic based perspective, the course content is as follows:\n",
    "\n",
    "* Different data types\n",
    "* Empirical asset return analysis\n",
    "* Modeling asset returns\n",
    "* Efficient markets and predictability\n",
    "* Portfolio theory and the importance of dependence\n",
    "\n",
    "\n",
    "1. Financial markets and data\n",
    "2. Unconditional analysis of profits and risk\n",
    "3. Why dependence matters - portoflio theory\n",
    "4. Unconditional analysis of dependencies\n",
    "5. The origins of dependencies - systematic and idiosyncratic\n",
    "6. Time-dependent analysis of risk and profits\n",
    "7. Statistical factor modeling\n",
    "8. Dividing assets by clustering"
   ]
  }
 ],
 "metadata": {
  "kernelspec": {
   "display_name": ".venv",
   "language": "python",
   "name": "python3"
  },
  "language_info": {
   "name": "python",
   "version": "3.12.3"
  }
 },
 "nbformat": 4,
 "nbformat_minor": 2
}
